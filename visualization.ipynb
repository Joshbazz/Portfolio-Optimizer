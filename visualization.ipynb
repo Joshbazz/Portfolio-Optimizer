{
 "cells": [
  {
   "cell_type": "code",
   "execution_count": 1,
   "id": "da5152ec-e203-428b-b3d9-5abebcb0ce76",
   "metadata": {},
   "outputs": [],
   "source": [
    "#IMPORT DEPENDENCIES\n",
    "import pandas as pd\n",
    "import yfinance as yf\n",
    "import datetime\n"
   ]
  },
  {
   "cell_type": "code",
   "execution_count": 2,
   "id": "87996464-a2b4-4b89-9864-c60314adaed3",
   "metadata": {},
   "outputs": [],
   "source": [
    "#APIs\n",
    "# Define the list of stock ticker symbols\n",
    "tickers = ['AGG', 'BNDX', 'SPY', 'IVW', 'IVE', 'BTC-USD', 'ETH-USD']\n",
    "\n",
    "# Calculate the start date (three years ago from today)\n",
    "start_date = datetime.datetime.now() - datetime.timedelta(days=1095)\n",
    "\n",
    "# Initialize an empty dataframe to store the Close columns for each ticker\n",
    "new_df = pd.DataFrame()\n",
    "\n",
    "# Initialize an empty list to store the column names of Close prices for each ticker\n",
    "ticker_closes = []"
   ]
  },
  {
   "cell_type": "code",
   "execution_count": 3,
   "id": "0adfe3ba-df6a-45a4-a24a-cf7ac1ab980c",
   "metadata": {},
   "outputs": [
    {
     "name": "stderr",
     "output_type": "stream",
     "text": [
      "[*********************100%%**********************]  1 of 1 completed\n",
      "[*********************100%%**********************]  1 of 1 completed\n",
      "[*********************100%%**********************]  1 of 1 completed\n",
      "[*********************100%%**********************]  1 of 1 completed\n",
      "[*********************100%%**********************]  1 of 1 completed\n",
      "[*********************100%%**********************]  1 of 1 completed\n",
      "[*********************100%%**********************]  1 of 1 completed\n"
     ]
    }
   ],
   "source": [
    "#Past 5 years of data into data frames\n",
    "# Iterate over each ticker symbol\n",
    "for ticker in tickers:\n",
    "    # Fetch historical stock price data for the current ticker\n",
    "    stock_data = yf.download(ticker, start=start_date, end=datetime.datetime.now())\n",
    "    \n",
    "    # Extract the 'Close' column and rename it for the current ticker\n",
    "    close_column = stock_data[['Close']].rename(columns={'Close': f'{ticker}_Close'})\n",
    "    \n",
    "    # Compute the daily returns and insert them to the left of the corresponding ticker's Close column\n",
    "    daily_returns = close_column.pct_change().rename(columns={f'{ticker}_Close': f'{ticker}_Daily_Return'})\n",
    "    new_df = pd.concat([daily_returns, new_df], axis=1)\n",
    "    \n",
    "    # Append the Close column name for the current ticker to the ticker_closes list\n",
    "    ticker_closes.append(f'{ticker}_Close')\n",
    "\n",
    "# Drop rows containing NaNs from the new_df dataframe\n",
    "new_df.dropna(inplace=True)"
   ]
  },
  {
   "cell_type": "code",
   "execution_count": 4,
   "id": "8d5c14a8-c9ca-443d-96be-d8c8e672ac1f",
   "metadata": {},
   "outputs": [
    {
     "name": "stdout",
     "output_type": "stream",
     "text": [
      "            ETH-USD_Daily_Return  BTC-USD_Daily_Return  IVE_Daily_Return  \\\n",
      "Date                                                                       \n",
      "2021-05-04             -0.051720             -0.067600          0.001695   \n",
      "2021-05-05              0.082724              0.076696          0.002640   \n",
      "2021-05-06             -0.009056             -0.017893          0.008911   \n",
      "2021-05-07             -0.001762              0.017020          0.007963   \n",
      "2021-05-10              0.005968             -0.040742         -0.000199   \n",
      "...                          ...                   ...               ...   \n",
      "2024-04-25              0.005320              0.003186         -0.003259   \n",
      "2024-04-26             -0.008346             -0.011265         -0.001663   \n",
      "2024-04-29             -0.014511              0.011533          0.004219   \n",
      "2024-04-30             -0.063177             -0.050191         -0.011719   \n",
      "2024-05-01             -0.014110             -0.039297         -0.002405   \n",
      "\n",
      "            IVW_Daily_Return  SPY_Daily_Return  BNDX_Daily_Return  \\\n",
      "Date                                                                \n",
      "2021-05-04         -0.013260         -0.006169           0.001581   \n",
      "2021-05-05         -0.001899          0.000313           0.000000   \n",
      "2021-05-06          0.007171          0.007986          -0.000175   \n",
      "2021-05-07          0.006829          0.007278          -0.001228   \n",
      "2021-05-10         -0.019483         -0.009902          -0.000176   \n",
      "...                      ...               ...                ...   \n",
      "2024-04-25         -0.005405         -0.003799          -0.001240   \n",
      "2024-04-26          0.019266          0.009474           0.002691   \n",
      "2024-04-29          0.002545          0.003541           0.002477   \n",
      "2024-04-30         -0.018129         -0.015841          -0.003089   \n",
      "2024-05-01         -0.005293         -0.003247           0.000000   \n",
      "\n",
      "            AGG_Daily_Return  \n",
      "Date                          \n",
      "2021-05-04          0.001224  \n",
      "2021-05-05          0.000786  \n",
      "2021-05-06          0.000174  \n",
      "2021-05-07         -0.000262  \n",
      "2021-05-10         -0.001571  \n",
      "...                      ...  \n",
      "2024-04-25         -0.002830  \n",
      "2024-04-26          0.002208  \n",
      "2024-04-29          0.003042  \n",
      "2024-04-30         -0.004079  \n",
      "2024-05-01          0.000420  \n",
      "\n",
      "[754 rows x 7 columns]\n"
     ]
    }
   ],
   "source": [
    "# analized risk and return for each asset\n",
    "print(new_df)"
   ]
  },
  {
   "cell_type": "code",
   "execution_count": null,
   "id": "8bb70b76",
   "metadata": {},
   "outputs": [],
   "source": [
    "# Visualization of dataframe with weights\n",
    "import hvplot.pandas \n",
    "new_df['weights'] = np.random.rand(754)\n",
    "new_df\n",
    "# Reset index to make 'Date' a regular column\n",
    "new_df = new_df.reset_index()\n",
    "\n",
    "# Visualize portfolio values\n",
    "new_df.hvplot.line(\n",
    "    x='Date',  # Specify the column name for x-axis\n",
    "    y='portfolio_value',  # Specify the column name for y-axis\n",
    "    xlabel='Date',\n",
    "    ylabel='Portfolio Value',\n",
    "    title='Portfolio Value Over Time',\n",
    ")\n"
   ]
  }
 ],
 "metadata": {
  "kernelspec": {
   "display_name": "Python 3 (ipykernel)",
   "language": "python",
   "name": "python3"
  },
  "language_info": {
   "codemirror_mode": {
    "name": "ipython",
    "version": 3
   },
   "file_extension": ".py",
   "mimetype": "text/x-python",
   "name": "python",
   "nbconvert_exporter": "python",
   "pygments_lexer": "ipython3",
   "version": "3.11.7"
  }
 },
 "nbformat": 4,
 "nbformat_minor": 5
}
