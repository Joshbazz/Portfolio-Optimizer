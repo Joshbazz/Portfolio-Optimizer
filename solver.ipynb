{
 "cells": [
  {
   "cell_type": "code",
   "execution_count": 7,
   "metadata": {},
   "outputs": [],
   "source": [
    "### I WILL PUT THE SOLVER CODE HERE AND WE CAN MERGE TO THE MAIN FILE ONCE ITS WORKING\n",
    "#IMPORT DEPENDENCIES\n",
    "import pandas as pd\n",
    "import yfinance as yf\n",
    "import datetime\n",
    "import numpy as np"
   ]
  },
  {
   "cell_type": "code",
   "execution_count": 2,
   "metadata": {},
   "outputs": [],
   "source": [
    "#APIs\n",
    "# Define the list of stock ticker symbols\n",
    "tickers = ['AGG', 'BNDX', 'SPY', 'IVW', 'IVE', 'BTC-USD', 'ETH-USD']\n",
    "\n",
    "# Calculate the start date (three years ago from today)\n",
    "start_date = datetime.datetime.now() - datetime.timedelta(days=1095)\n",
    "\n",
    "# Initialize an empty dataframe to store the Close columns for each ticker\n",
    "new_df = pd.DataFrame()\n",
    "\n",
    "# Initialize an empty list to store the column names of Close prices for each ticker\n",
    "ticker_closes = []"
   ]
  },
  {
   "cell_type": "code",
   "execution_count": 3,
   "metadata": {},
   "outputs": [
    {
     "name": "stderr",
     "output_type": "stream",
     "text": [
      "[*********************100%%**********************]  1 of 1 completed\n",
      "[*********************100%%**********************]  1 of 1 completed\n",
      "[*********************100%%**********************]  1 of 1 completed\n",
      "[*********************100%%**********************]  1 of 1 completed\n",
      "[*********************100%%**********************]  1 of 1 completed\n",
      "[*********************100%%**********************]  1 of 1 completed\n",
      "[*********************100%%**********************]  1 of 1 completed\n"
     ]
    }
   ],
   "source": [
    "#Past 5 years of data into data frames\n",
    "# Iterate over each ticker symbol\n",
    "for ticker in tickers:\n",
    "    # Fetch historical stock price data for the current ticker\n",
    "    stock_data = yf.download(ticker, start=start_date, end=datetime.datetime.now())\n",
    "    \n",
    "    # Extract the 'Close' column and rename it for the current ticker\n",
    "    close_column = stock_data[['Close']].rename(columns={'Close': f'{ticker}_Close'})\n",
    "    \n",
    "    # Compute the daily returns and insert them to the left of the corresponding ticker's Close column\n",
    "    daily_returns = close_column.pct_change().rename(columns={f'{ticker}_Close': f'{ticker}_Daily_Return'})\n",
    "    new_df = pd.concat([daily_returns, new_df], axis=1)\n",
    "    \n",
    "    # Append the Close column name for the current ticker to the ticker_closes list\n",
    "    ticker_closes.append(f'{ticker}_Close')\n",
    "\n",
    "# Drop rows containing NaNs from the new_df dataframe\n",
    "new_df.dropna(inplace=True)\n"
   ]
  },
  {
   "cell_type": "code",
   "execution_count": 4,
   "metadata": {},
   "outputs": [
    {
     "name": "stdout",
     "output_type": "stream",
     "text": [
      "AGG:\n",
      "Annualized Mean Return: -5.88%\n",
      "Annualized Risk (Standard Deviation): 6.82%\n",
      "\n",
      "BNDX:\n",
      "Annualized Mean Return: -5.22%\n",
      "Annualized Risk (Standard Deviation): 6.03%\n",
      "\n",
      "SPY:\n",
      "Annualized Mean Return: 7.51%\n",
      "Annualized Risk (Standard Deviation): 17.44%\n",
      "\n",
      "IVW:\n",
      "Annualized Mean Return: 7.38%\n",
      "Annualized Risk (Standard Deviation): 21.37%\n",
      "\n",
      "IVE:\n",
      "Annualized Mean Return: 7.51%\n",
      "Annualized Risk (Standard Deviation): 15.20%\n",
      "\n",
      "BTC-USD:\n",
      "Annualized Mean Return: -1.96%\n",
      "Annualized Risk (Standard Deviation): 56.43%\n",
      "\n",
      "ETH-USD:\n",
      "Annualized Mean Return: -4.52%\n",
      "Annualized Risk (Standard Deviation): 70.91%\n",
      "\n",
      "            ETH-USD_Daily_Return  BTC-USD_Daily_Return  IVE_Daily_Return  \\\n",
      "Date                                                                       \n",
      "2021-05-04             -0.051720             -0.067600          0.001695   \n",
      "2021-05-05              0.082724              0.076696          0.002640   \n",
      "2021-05-06             -0.009056             -0.017893          0.008911   \n",
      "2021-05-07             -0.001762              0.017020          0.007963   \n",
      "2021-05-10              0.005968             -0.040742         -0.000199   \n",
      "...                          ...                   ...               ...   \n",
      "2024-04-25              0.005320              0.003186         -0.003259   \n",
      "2024-04-26             -0.008346             -0.011265         -0.001663   \n",
      "2024-04-29             -0.014511              0.011533          0.004219   \n",
      "2024-04-30             -0.063177             -0.050191         -0.011719   \n",
      "2024-05-01             -0.014110             -0.039297         -0.002405   \n",
      "\n",
      "            IVW_Daily_Return  SPY_Daily_Return  BNDX_Daily_Return  \\\n",
      "Date                                                                \n",
      "2021-05-04         -0.013260         -0.006169           0.001581   \n",
      "2021-05-05         -0.001899          0.000313           0.000000   \n",
      "2021-05-06          0.007171          0.007986          -0.000175   \n",
      "2021-05-07          0.006829          0.007278          -0.001228   \n",
      "2021-05-10         -0.019483         -0.009902          -0.000176   \n",
      "...                      ...               ...                ...   \n",
      "2024-04-25         -0.005405         -0.003799          -0.001240   \n",
      "2024-04-26          0.019266          0.009474           0.002691   \n",
      "2024-04-29          0.002545          0.003541           0.002477   \n",
      "2024-04-30         -0.018129         -0.015841          -0.003089   \n",
      "2024-05-01         -0.005293         -0.003247           0.000000   \n",
      "\n",
      "            AGG_Daily_Return  \n",
      "Date                          \n",
      "2021-05-04          0.001224  \n",
      "2021-05-05          0.000786  \n",
      "2021-05-06          0.000174  \n",
      "2021-05-07         -0.000262  \n",
      "2021-05-10         -0.001571  \n",
      "...                      ...  \n",
      "2024-04-25         -0.002830  \n",
      "2024-04-26          0.002208  \n",
      "2024-04-29          0.003042  \n",
      "2024-04-30         -0.004079  \n",
      "2024-05-01          0.000420  \n",
      "\n",
      "[754 rows x 7 columns]\n"
     ]
    }
   ],
   "source": [
    "## Feel free to adjust or send feedback if the code could be better or be more precise to what is needed:\n",
    "\n",
    "# Calculate the annualized mean return for each asset\n",
    "annualized_mean_return = new_df.mean() * 252\n",
    "\n",
    "# Calculate the annualized standard deviation (risk) for each asset\n",
    "annualized_std_dev = new_df.std() * (252 ** 0.5)\n",
    "\n",
    "# Display annualized risk and return for each asset\n",
    "for ticker in tickers:\n",
    "    print(f'{ticker}:')\n",
    "    print(f'Annualized Mean Return: {annualized_mean_return[f\"{ticker}_Daily_Return\"]:.2%}')\n",
    "    print(f'Annualized Risk (Standard Deviation): {annualized_std_dev[f\"{ticker}_Daily_Return\"]:.2%}')\n",
    "    print()\n",
    "\n",
    "print(new_df)"
   ]
  },
  {
   "cell_type": "code",
   "execution_count": 37,
   "metadata": {},
   "outputs": [
    {
     "name": "stdout",
     "output_type": "stream",
     "text": [
      "    Ticker  Annualized_Mean_Return  Annualized_Std_Dev\n",
      "0      AGG               -0.058799            0.068186\n",
      "1     BNDX               -0.052236            0.060349\n",
      "2      SPY                0.075149            0.174400\n",
      "3      IVW                0.073793            0.213682\n",
      "4      IVE                0.075071            0.152028\n",
      "5  BTC-USD               -0.019588            0.564345\n",
      "6  ETH-USD               -0.045154            0.709100\n"
     ]
    }
   ],
   "source": [
    "# Create a dictionary with calculated values\n",
    "assets_data = {\n",
    "    'Ticker': tickers,\n",
    "    'Annualized_Mean_Return': [annualized_mean_return[f\"{ticker}_Daily_Return\"] for ticker in tickers],\n",
    "    'Annualized_Std_Dev': [annualized_std_dev[f\"{ticker}_Daily_Return\"] for ticker in tickers]\n",
    "}\n",
    "\n",
    "# Convert the dictionary into a DataFrame\n",
    "individual_assets = pd.DataFrame(assets_data)\n",
    "\n",
    "# Print the DataFrame\n",
    "print(individual_assets)"
   ]
  },
  {
   "cell_type": "code",
   "execution_count": 20,
   "metadata": {},
   "outputs": [
    {
     "name": "stdout",
     "output_type": "stream",
     "text": [
      "Optimization Result:\n",
      " message: Optimization terminated successfully\n",
      " success: True\n",
      "  status: 0\n",
      "     fun: 1.6617205083896016e-20\n",
      "       x: [ 2.960e-02  4.092e-02  2.605e-01  2.582e-01  2.604e-01\n",
      "            9.721e-02  5.313e-02]\n",
      "     nit: 4\n",
      "     jac: [ 6.668e-11  5.413e-11  6.478e-11  6.212e-11  6.462e-11\n",
      "            1.077e-11  4.202e-11]\n",
      "    nfev: 32\n",
      "    njev: 4\n",
      "Optimal solution: [0.02960394 0.0409195  0.26053724 0.2581996  0.26040383 0.09720661\n",
      " 0.05312929]\n"
     ]
    }
   ],
   "source": [
    "agg_mean_return = individual_assets['Annualized_Mean_Return']\n",
    "\n",
    "from scipy.optimize import minimize\n",
    "\n",
    "# Define the objective function to minimize\n",
    "def objective_function(weights, mean_returns, target_return):\n",
    "    # Calculate the portfolio return\n",
    "    portfolio_return = np.dot(mean_returns, weights)\n",
    "    # Calculate the squared difference between the portfolio return and the target return\n",
    "    return (portfolio_return - target_return) ** 2\n",
    "\n",
    "# Define initial guess for weights\n",
    "initial_guess = np.ones(len(agg_mean_return)) / len(agg_mean_return)  # Equal weights initially\n",
    "\n",
    "# Define the target return\n",
    "target_return = 0.05  # Example target return (replace with your desired target return)\n",
    "\n",
    "# Perform optimization\n",
    "result = minimize(objective_function, initial_guess, args=(agg_mean_return, target_return), method='SLSQP', bounds=[(0, 1)] * len(agg_mean_return), constraints={'type': 'eq', 'fun': lambda weights: np.sum(weights) - 1})\n",
    "\n",
    "# Print optimization result\n",
    "print(\"Optimization Result:\")\n",
    "print(result)\n",
    "print(\"Optimal solution:\", result.x)\n",
    "\n"
   ]
  },
  {
   "cell_type": "code",
   "execution_count": 31,
   "metadata": {},
   "outputs": [
    {
     "data": {
      "text/html": [
       "<div>\n",
       "<style scoped>\n",
       "    .dataframe tbody tr th:only-of-type {\n",
       "        vertical-align: middle;\n",
       "    }\n",
       "\n",
       "    .dataframe tbody tr th {\n",
       "        vertical-align: top;\n",
       "    }\n",
       "\n",
       "    .dataframe thead th {\n",
       "        text-align: right;\n",
       "    }\n",
       "</style>\n",
       "<table border=\"1\" class=\"dataframe\">\n",
       "  <thead>\n",
       "    <tr style=\"text-align: right;\">\n",
       "      <th></th>\n",
       "      <th>0</th>\n",
       "    </tr>\n",
       "  </thead>\n",
       "  <tbody>\n",
       "    <tr>\n",
       "      <th>0</th>\n",
       "      <td>0.029604</td>\n",
       "    </tr>\n",
       "    <tr>\n",
       "      <th>1</th>\n",
       "      <td>0.040919</td>\n",
       "    </tr>\n",
       "    <tr>\n",
       "      <th>2</th>\n",
       "      <td>0.260537</td>\n",
       "    </tr>\n",
       "    <tr>\n",
       "      <th>3</th>\n",
       "      <td>0.258200</td>\n",
       "    </tr>\n",
       "    <tr>\n",
       "      <th>4</th>\n",
       "      <td>0.260404</td>\n",
       "    </tr>\n",
       "    <tr>\n",
       "      <th>5</th>\n",
       "      <td>0.097207</td>\n",
       "    </tr>\n",
       "    <tr>\n",
       "      <th>6</th>\n",
       "      <td>0.053129</td>\n",
       "    </tr>\n",
       "  </tbody>\n",
       "</table>\n",
       "</div>"
      ],
      "text/plain": [
       "          0\n",
       "0  0.029604\n",
       "1  0.040919\n",
       "2  0.260537\n",
       "3  0.258200\n",
       "4  0.260404\n",
       "5  0.097207\n",
       "6  0.053129"
      ]
     },
     "execution_count": 31,
     "metadata": {},
     "output_type": "execute_result"
    }
   ],
   "source": [
    "five_perc_return = pd.DataFrame(result.x)\n",
    "five_perc_return"
   ]
  },
  {
   "cell_type": "code",
   "execution_count": 38,
   "metadata": {},
   "outputs": [
    {
     "name": "stdout",
     "output_type": "stream",
     "text": [
      "    Ticker  Annualized_Mean_Return  Annualized_Std_Dev  \\\n",
      "0      AGG               -0.058799            0.068186   \n",
      "1     BNDX               -0.052236            0.060349   \n",
      "2      SPY                0.075149            0.174400   \n",
      "3      IVW                0.073793            0.213682   \n",
      "4      IVE                0.075071            0.152028   \n",
      "5  BTC-USD               -0.019588            0.564345   \n",
      "6  ETH-USD               -0.045154            0.709100   \n",
      "\n",
      "   five_perc_return_weights  \n",
      "0                  0.029604  \n",
      "1                  0.040919  \n",
      "2                  0.260537  \n",
      "3                  0.258200  \n",
      "4                  0.260404  \n",
      "5                  0.097207  \n",
      "6                  0.053129  \n"
     ]
    }
   ],
   "source": [
    "import pandas as pd\n",
    "\n",
    "# Assuming individual_assets is your DataFrame\n",
    "individual_assets['five_perc_return_weights'] = five_perc_return\n",
    "\n",
    "# Now individual_assets will have a new column 'test_weights'\n",
    "print(individual_assets)\n"
   ]
  },
  {
   "cell_type": "code",
   "execution_count": 39,
   "metadata": {},
   "outputs": [
    {
     "name": "stdout",
     "output_type": "stream",
     "text": [
      "Portfolio Return: 0.049999999871092264\n"
     ]
    }
   ],
   "source": [
    "import numpy as np\n",
    "\n",
    "# Calculate the portfolio return using sum product\n",
    "portfolio_return_fice_perc = np.dot(individual_assets['five_perc_return_weights'], individual_assets['Annualized_Mean_Return'])\n",
    "\n",
    "print(\"Portfolio Return:\", portfolio_return_fice_perc)\n"
   ]
  },
  {
   "cell_type": "code",
   "execution_count": 40,
   "metadata": {},
   "outputs": [
    {
     "name": "stdout",
     "output_type": "stream",
     "text": [
      "Optimization Result:\n",
      " message: Optimization terminated successfully\n",
      " success: True\n",
      "  status: 0\n",
      "     fun: 0.0006413505963976324\n",
      "       x: [ 0.000e+00  0.000e+00  3.350e-01  3.302e-01  3.348e-01\n",
      "            2.776e-17  8.114e-18]\n",
      "     nit: 8\n",
      "     jac: [ 2.978e-03  2.646e-03 -3.806e-03 -3.738e-03 -3.802e-03\n",
      "            9.921e-04  2.287e-03]\n",
      "    nfev: 64\n",
      "    njev: 8\n",
      "Optimal solution: [0.00000000e+00 0.00000000e+00 3.35046106e-01 3.30185200e-01\n",
      " 3.34768694e-01 2.77555756e-17 8.11434823e-18]\n"
     ]
    }
   ],
   "source": [
    "agg_mean_return = individual_assets['Annualized_Mean_Return']\n",
    "\n",
    "from scipy.optimize import minimize\n",
    "\n",
    "# Define the objective function to minimize\n",
    "def objective_function(weights, mean_returns, target_return):\n",
    "    # Calculate the portfolio return\n",
    "    portfolio_return = np.dot(mean_returns, weights)\n",
    "    # Calculate the squared difference between the portfolio return and the target return\n",
    "    return (portfolio_return - target_return) ** 2\n",
    "\n",
    "# Define initial guess for weights\n",
    "initial_guess = np.ones(len(agg_mean_return)) / len(agg_mean_return)  # Equal weights initially\n",
    "\n",
    "# Define the target return\n",
    "target_return = 0.1  # Example target return (replace with your desired target return)\n",
    "\n",
    "# Perform optimization\n",
    "result = minimize(objective_function, initial_guess, args=(agg_mean_return, target_return), method='SLSQP', bounds=[(0, 1)] * len(agg_mean_return), constraints={'type': 'eq', 'fun': lambda weights: np.sum(weights) - 1})\n",
    "\n",
    "# Print optimization result\n",
    "print(\"Optimization Result:\")\n",
    "print(result)\n",
    "print(\"Optimal solution:\", result.x)\n",
    "\n"
   ]
  },
  {
   "cell_type": "code",
   "execution_count": 41,
   "metadata": {},
   "outputs": [
    {
     "data": {
      "text/html": [
       "<div>\n",
       "<style scoped>\n",
       "    .dataframe tbody tr th:only-of-type {\n",
       "        vertical-align: middle;\n",
       "    }\n",
       "\n",
       "    .dataframe tbody tr th {\n",
       "        vertical-align: top;\n",
       "    }\n",
       "\n",
       "    .dataframe thead th {\n",
       "        text-align: right;\n",
       "    }\n",
       "</style>\n",
       "<table border=\"1\" class=\"dataframe\">\n",
       "  <thead>\n",
       "    <tr style=\"text-align: right;\">\n",
       "      <th></th>\n",
       "      <th>0</th>\n",
       "    </tr>\n",
       "  </thead>\n",
       "  <tbody>\n",
       "    <tr>\n",
       "      <th>0</th>\n",
       "      <td>0.000000e+00</td>\n",
       "    </tr>\n",
       "    <tr>\n",
       "      <th>1</th>\n",
       "      <td>0.000000e+00</td>\n",
       "    </tr>\n",
       "    <tr>\n",
       "      <th>2</th>\n",
       "      <td>3.350461e-01</td>\n",
       "    </tr>\n",
       "    <tr>\n",
       "      <th>3</th>\n",
       "      <td>3.301852e-01</td>\n",
       "    </tr>\n",
       "    <tr>\n",
       "      <th>4</th>\n",
       "      <td>3.347687e-01</td>\n",
       "    </tr>\n",
       "    <tr>\n",
       "      <th>5</th>\n",
       "      <td>2.775558e-17</td>\n",
       "    </tr>\n",
       "    <tr>\n",
       "      <th>6</th>\n",
       "      <td>8.114348e-18</td>\n",
       "    </tr>\n",
       "  </tbody>\n",
       "</table>\n",
       "</div>"
      ],
      "text/plain": [
       "              0\n",
       "0  0.000000e+00\n",
       "1  0.000000e+00\n",
       "2  3.350461e-01\n",
       "3  3.301852e-01\n",
       "4  3.347687e-01\n",
       "5  2.775558e-17\n",
       "6  8.114348e-18"
      ]
     },
     "execution_count": 41,
     "metadata": {},
     "output_type": "execute_result"
    }
   ],
   "source": [
    "ten_perc_return = pd.DataFrame(result.x)\n",
    "ten_perc_return"
   ]
  },
  {
   "cell_type": "code",
   "execution_count": null,
   "metadata": {},
   "outputs": [],
   "source": []
  }
 ],
 "metadata": {
  "kernelspec": {
   "display_name": "dev",
   "language": "python",
   "name": "python3"
  },
  "language_info": {
   "codemirror_mode": {
    "name": "ipython",
    "version": 3
   },
   "file_extension": ".py",
   "mimetype": "text/x-python",
   "name": "python",
   "nbconvert_exporter": "python",
   "pygments_lexer": "ipython3",
   "version": "3.10.13"
  }
 },
 "nbformat": 4,
 "nbformat_minor": 2
}
