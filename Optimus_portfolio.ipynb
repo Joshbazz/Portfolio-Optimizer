{
 "cells": [
  {
   "cell_type": "code",
   "execution_count": 1,
   "id": "34ec112b-38e5-4c5e-ab56-1dc67b5e6468",
   "metadata": {
    "tags": []
   },
   "outputs": [],
   "source": [
    "#OPTIMUS PORTFOLIO\n",
    "#PROVIDING A PORTFOLIO SUGGESTION"
   ]
  },
  {
   "cell_type": "code",
   "execution_count": 2,
   "id": "303992c4-029d-492c-aab2-852ced717c30",
   "metadata": {},
   "outputs": [],
   "source": [
    "#IMPORT DEPENDENCIES\n",
    "import pandas as pd\n",
    "import yfinance as yf\n",
    "import datetime\n",
    "import numpy as np"
   ]
  },
  {
   "cell_type": "code",
   "execution_count": 3,
   "id": "c175dcbf-9943-4731-b176-17c24f60acc5",
   "metadata": {},
   "outputs": [],
   "source": [
    "#APIs\n",
    "# Define the list of stock ticker symbols\n",
    "tickers = ['AGG', 'BNDX', 'SPY', 'IVW', 'IVE', 'BTC-USD', 'ETH-USD']\n",
    "\n",
    "# Calculate the start date (three years ago from today)\n",
    "start_date = datetime.datetime.now() - datetime.timedelta(days=1095)\n",
    "\n",
    "# Initialize an empty dataframe to store the Close columns for each ticker\n",
    "new_df = pd.DataFrame()\n",
    "\n",
    "# Initialize an empty list to store the column names of Close prices for each ticker\n",
    "ticker_closes = []"
   ]
  },
  {
   "cell_type": "code",
   "execution_count": 4,
   "id": "e6e73fee-93b4-4458-a39f-6d5f51765ee1",
   "metadata": {
    "scrolled": true
   },
   "outputs": [
    {
     "name": "stderr",
     "output_type": "stream",
     "text": [
      "[*********************100%%**********************]  1 of 1 completed\n",
      "[*********************100%%**********************]  1 of 1 completed\n",
      "[*********************100%%**********************]  1 of 1 completed\n",
      "[*********************100%%**********************]  1 of 1 completed\n",
      "[*********************100%%**********************]  1 of 1 completed\n",
      "[*********************100%%**********************]  1 of 1 completed\n",
      "[*********************100%%**********************]  1 of 1 completed\n"
     ]
    }
   ],
   "source": [
    "#Past 5 years of data into data frames\n",
    "# Iterate over each ticker symbol\n",
    "for ticker in tickers:\n",
    "    # Fetch historical stock price data for the current ticker\n",
    "    stock_data = yf.download(ticker, start=start_date, end=datetime.datetime.now())\n",
    "    \n",
    "    # Extract the 'Close' column and rename it for the current ticker\n",
    "    close_column = stock_data[['Close']].rename(columns={'Close': f'{ticker}_Close'})\n",
    "    \n",
    "    # Compute the daily returns and insert them to the left of the corresponding ticker's Close column\n",
    "    daily_returns = close_column.pct_change().rename(columns={f'{ticker}_Close': f'{ticker}_Daily_Return'})\n",
    "    new_df = pd.concat([daily_returns, new_df], axis=1)\n",
    "    \n",
    "    # Append the Close column name for the current ticker to the ticker_closes list\n",
    "    ticker_closes.append(f'{ticker}_Close')\n",
    "\n",
    "# Drop rows containing NaNs from the new_df dataframe\n",
    "new_df.dropna(inplace=True)\n"
   ]
  },
  {
   "cell_type": "code",
   "execution_count": 15,
   "id": "568d9e6d-0ec8-4173-94e6-c5736d1d034e",
   "metadata": {},
   "outputs": [
    {
     "name": "stdout",
     "output_type": "stream",
     "text": [
      "AGG:\n",
      "Annualized Mean Return: -5.88%\n",
      "Annualized Risk (Standard Deviation): 6.82%\n",
      "\n",
      "BNDX:\n",
      "Annualized Mean Return: -5.22%\n",
      "Annualized Risk (Standard Deviation): 6.03%\n",
      "\n",
      "SPY:\n",
      "Annualized Mean Return: 7.51%\n",
      "Annualized Risk (Standard Deviation): 17.44%\n",
      "\n",
      "IVW:\n",
      "Annualized Mean Return: 7.38%\n",
      "Annualized Risk (Standard Deviation): 21.37%\n",
      "\n",
      "IVE:\n",
      "Annualized Mean Return: 7.51%\n",
      "Annualized Risk (Standard Deviation): 15.20%\n",
      "\n",
      "BTC-USD:\n",
      "Annualized Mean Return: -1.96%\n",
      "Annualized Risk (Standard Deviation): 56.43%\n",
      "\n",
      "ETH-USD:\n",
      "Annualized Mean Return: -4.52%\n",
      "Annualized Risk (Standard Deviation): 70.91%\n",
      "\n",
      "            ETH-USD_Daily_Return  BTC-USD_Daily_Return  IVE_Daily_Return  \\\n",
      "Date                                                                       \n",
      "2021-05-04             -0.051720             -0.067600          0.001695   \n",
      "2021-05-05              0.082724              0.076696          0.002640   \n",
      "2021-05-06             -0.009056             -0.017893          0.008911   \n",
      "2021-05-07             -0.001762              0.017020          0.007963   \n",
      "2021-05-10              0.005968             -0.040742         -0.000199   \n",
      "...                          ...                   ...               ...   \n",
      "2024-04-25              0.005320              0.003186         -0.003259   \n",
      "2024-04-26             -0.008346             -0.011265         -0.001663   \n",
      "2024-04-29             -0.014511              0.011533          0.004219   \n",
      "2024-04-30             -0.063177             -0.050191         -0.011719   \n",
      "2024-05-01             -0.014110             -0.039297         -0.002405   \n",
      "\n",
      "            IVW_Daily_Return  SPY_Daily_Return  BNDX_Daily_Return  \\\n",
      "Date                                                                \n",
      "2021-05-04         -0.013260         -0.006169           0.001581   \n",
      "2021-05-05         -0.001899          0.000313           0.000000   \n",
      "2021-05-06          0.007171          0.007986          -0.000175   \n",
      "2021-05-07          0.006829          0.007278          -0.001228   \n",
      "2021-05-10         -0.019483         -0.009902          -0.000176   \n",
      "...                      ...               ...                ...   \n",
      "2024-04-25         -0.005405         -0.003799          -0.001240   \n",
      "2024-04-26          0.019266          0.009474           0.002691   \n",
      "2024-04-29          0.002545          0.003541           0.002477   \n",
      "2024-04-30         -0.018129         -0.015841          -0.003089   \n",
      "2024-05-01         -0.005293         -0.003247           0.000000   \n",
      "\n",
      "            AGG_Daily_Return  \n",
      "Date                          \n",
      "2021-05-04          0.001224  \n",
      "2021-05-05          0.000786  \n",
      "2021-05-06          0.000174  \n",
      "2021-05-07         -0.000262  \n",
      "2021-05-10         -0.001571  \n",
      "...                      ...  \n",
      "2024-04-25         -0.002830  \n",
      "2024-04-26          0.002208  \n",
      "2024-04-29          0.003042  \n",
      "2024-04-30         -0.004079  \n",
      "2024-05-01          0.000420  \n",
      "\n",
      "[754 rows x 7 columns]\n"
     ]
    }
   ],
   "source": [
    "## Feel free to adjust or send feedback if the code could be better or be more precise to what is needed:\n",
    "\n",
    "span = len(new_df)  # Adjust the span for three years of historical data\n",
    "\n",
    "# Calculate the annualized exponentially weighted mean return for each asset\n",
    "annualized_mean_return = new_df.ewm(span=span).mean().iloc[-1] * 252\n",
    "\n",
    "# Calculate the annualized exponentially weighted standard deviation (risk) for each asset\n",
    "annualized_std_dev = new_df.ewm(span=span).std().iloc[-1] * np.sqrt(252)\n",
    "\n",
    "# Display annualized risk and return for each asset\n",
    "for ticker in tickers:\n",
    "    print(f'{ticker}:')\n",
    "    print(f'Annualized Mean Return: {annualized_mean_return[f\"{ticker}_Daily_Return\"]:.2%}')\n",
    "    print(f'Annualized Risk (Standard Deviation): {annualized_std_dev[f\"{ticker}_Daily_Return\"]:.2%}')\n",
    "    print()\n",
    "\n",
    "print(new_df)"
   ]
  },
  {
   "cell_type": "code",
   "execution_count": 6,
   "id": "1b401b63-a7d2-466b-9242-07801e1deb0e",
   "metadata": {},
   "outputs": [],
   "source": [
    "#weights for portfolio - solver code targeting 5 portfolios\n"
   ]
  },
  {
   "cell_type": "code",
   "execution_count": 7,
   "id": "c70e958f-2259-4970-ae71-cb8a3e9ed909",
   "metadata": {},
   "outputs": [],
   "source": [
    "#pull weights into data frame\n"
   ]
  },
  {
   "cell_type": "code",
   "execution_count": 8,
   "id": "63f201be-2246-4818-b681-b2efb0b6ab32",
   "metadata": {},
   "outputs": [],
   "source": [
    "#visualization on each portfolio\n"
   ]
  },
  {
   "cell_type": "code",
   "execution_count": 9,
   "id": "faf3c1cd-f4bc-4733-9196-3f0d6bb04e57",
   "metadata": {},
   "outputs": [],
   "source": [
    "#ask user for inputs\n"
   ]
  },
  {
   "cell_type": "code",
   "execution_count": 10,
   "id": "41e1d18c-5295-4188-8781-f0b6a0b26f5a",
   "metadata": {},
   "outputs": [],
   "source": [
    "#return visualization and simulation monte carlo of closest portfolio to user input above"
   ]
  },
  {
   "cell_type": "code",
   "execution_count": 11,
   "id": "c6b8d7f0-ee13-466b-916d-87df7decd094",
   "metadata": {
    "tags": []
   },
   "outputs": [],
   "source": [
    "# print a congrats you are on your way to $$$\n"
   ]
  }
 ],
 "metadata": {
  "kernelspec": {
   "display_name": "Python 3 (ipykernel)",
   "language": "python",
   "name": "python3"
  },
  "language_info": {
   "codemirror_mode": {
    "name": "ipython",
    "version": 3
   },
   "file_extension": ".py",
   "mimetype": "text/x-python",
   "name": "python",
   "nbconvert_exporter": "python",
   "pygments_lexer": "ipython3",
   "version": "3.10.13"
  }
 },
 "nbformat": 4,
 "nbformat_minor": 5
}
