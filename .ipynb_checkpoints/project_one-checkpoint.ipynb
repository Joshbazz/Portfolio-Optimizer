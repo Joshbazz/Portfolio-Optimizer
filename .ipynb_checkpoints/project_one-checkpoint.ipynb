{
 "cells": [
  {
   "cell_type": "code",
   "execution_count": null,
   "metadata": {},
   "outputs": [],
   "source": [
    "import yfinance as yf\n",
    "import datetime\n",
    "\n",
    "# Define the stock ticker symbol\n",
    "ticker_symbol = [\"SPY\"]\n",
    "\n",
    "# Calculate the start date (three years ago from today)\n",
    "start_date = datetime.datetime.now() - datetime.timedelta(days=1095)\n",
    "\n",
    "# Fetch historical stock price data\n",
    "stock_data = yf.download(ticker_symbol, start=start_date, end=datetime.datetime.now())\n",
    "\n",
    "# Print the retrieved data\n",
    "#print(stock_data)\n",
    "\n",
    "stock_data['daily_ret'] = stock_data['Close'].pct_change()\n",
    "stock_data['Close_SPY'] = stock_data['Close']\n",
    "\n",
    "print(stock_data)\n"
   ]
  }
 ],
 "metadata": {
  "kernelspec": {
   "display_name": "dev",
   "language": "python",
   "name": "python3"
  },
  "language_info": {
   "name": "python",
   "version": "3.10.13"
  }
 },
 "nbformat": 4,
 "nbformat_minor": 2
}
